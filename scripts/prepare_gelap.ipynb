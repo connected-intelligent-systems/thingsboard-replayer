{
 "cells": [
  {
   "cell_type": "code",
   "execution_count": 5,
   "metadata": {},
   "outputs": [
    {
     "name": "stdout",
     "output_type": "stream",
     "text": [
      "Downloaded hh-14.tar.xz\n"
     ]
    }
   ],
   "source": [
    "import requests\n",
    "# Usage\n",
    "file_path = \"hh-14.tar.xz\"  # replace with your local path\n",
    "repo_url = \"https://mygit.th-deg.de/tcg/gelap/-/raw/master/\" + file_path + \"?ref_type=heads\"  # replace with your repo URL\n",
    "\n",
    "# Download the file\n",
    "response = requests.get(repo_url)\n",
    "with open(file_path, 'wb') as f:\n",
    "    f.write(response.content)\n",
    "print(\"Downloaded\", file_path)\n"
   ]
  },
  {
   "cell_type": "code",
   "execution_count": null,
   "metadata": {},
   "outputs": [],
   "source": [
    "import os\n",
    "import pandas as pd\n",
    "\n",
    "household_path = 'C://Users//seho04//Documents//GitHub//thingsboard-replayer//example_data//hh_14'\n",
    "labels = { \n",
    "            \"label_001.csv\": \"thermomix\",\n",
    "            \"label_002.csv\": \"toaster\",\n",
    "            \"label_003.csv\": \"coffee_machine\",\n",
    "            \"label_004.csv\": \"electric_kettle\",\n",
    "            \"label_005.csv\": \"microwave\",\n",
    "            \"label_006.csv\": \"radio\",\n",
    "            \"label_007.csv\": \"washing_machine\",\n",
    "            \"label_008.csv\": \"vacuum_cleaner\",\n",
    "            \"label_009.csv\": \"television\",\n",
    "            \"label_010.csv\": \"charger\"}"
   ]
  },
  {
   "cell_type": "code",
   "execution_count": null,
   "metadata": {},
   "outputs": [],
   "source": [
    "smartmeter = pd.read_csv(os.path.join(household_path, \"smartmeter.csv\"))\n",
    "smartmeter = smartmeter.set_index(\"time\")\n",
    "smartmeter.index = pd.to_datetime(smartmeter.index, unit='ms')\n",
    "# shorten the timestamp to seconds\n",
    "smartmeter.index = smartmeter.index.floor('s')\n",
    "# add all the power columns together\n",
    "smartmeter[\"power\"] = smartmeter[\"power1\"] + smartmeter[\"power2\"] + smartmeter[\"power3\"]\n",
    "smartmeter = smartmeter.rename(columns={\"power\": \"smartmeter\"})\n",
    "smartmeter = smartmeter.drop(columns=[\"power1\", \"power2\", \"power3\"])\n",
    "smartmeter.to_csv(os.path.join(os.path.join(household_path, 'edited'), \"smartmeter.csv\"))\n",
    "smartmeter = smartmeter.drop(columns=[\"smartmeter\"])\n",
    "\n",
    "for label in labels:\n",
    "    print(label, labels[label])\n",
    "    # for device in pd.read_csv(os.path.join(household_path, label), chunksize=10000):\n",
    "    device = pd.read_csv(os.path.join(household_path, label))\n",
    "    device = device.rename(columns={\"time_request\": \"time\"})\n",
    "    device = device.drop(columns=[\"time_reply\"])\n",
    "    device.set_index(\"time\")\n",
    "    device.index = pd.to_datetime(device.index, unit='ms')\n",
    "    device.index = device.index.floor('s')\n",
    "    \n",
    "    # add the power column to the smartmeter dataframe at the matching timestamp\n",
    "    smartmeter = pd.merge(smartmeter, device, how='left', left_index=True, right_index=True) \n",
    "    \n",
    "    smartmeter = smartmeter.rename(columns={\"power\": labels[label]})\n",
    "    smartmeter = smartmeter.drop(columns=[\"time\"])\n",
    "    smartmeter.to_csv(os.path.join(os.path.join(household_path, 'edited'),labels[label]+\".csv\"))\n",
    "    smartmeter = smartmeter.drop(columns=[labels[label]])"
   ]
  },
  {
   "cell_type": "code",
   "execution_count": null,
   "metadata": {},
   "outputs": [],
   "source": [
    "# loop over folder and merge all csv files into one csv file\n",
    "files = os.listdir(os.path.join(household_path, 'edited'))\n",
    "df = pd.read_csv(os.path.join(os.path.join(household_path, 'edited'), files[0]))\n",
    "# rename the Unamed column to \"time\"\n",
    "df = df.rename(columns={\"Unnamed: 0\": \"time\"})\n",
    "# set the timestamp as the index\n",
    "df = df.set_index(\"time\")\n",
    "for file in files[1:]:\n",
    "    device = pd.read_csv(os.path.join(os.path.join(household_path, 'edited'), file))\n",
    "    # copy all collumnds except the index column to the new dataframe\n",
    "    df = pd.concat([df, device.iloc[:, 1:]], axis=1)\n",
    "     \n",
    "df.to_csv(os.path.join(household_path, \"merged.csv\"))"
   ]
  }
 ],
 "metadata": {
  "kernelspec": {
   "display_name": "testenv",
   "language": "python",
   "name": "python3"
  },
  "language_info": {
   "codemirror_mode": {
    "name": "ipython",
    "version": 3
   },
   "file_extension": ".py",
   "mimetype": "text/x-python",
   "name": "python",
   "nbconvert_exporter": "python",
   "pygments_lexer": "ipython3",
   "version": "3.10.9"
  }
 },
 "nbformat": 4,
 "nbformat_minor": 2
}
