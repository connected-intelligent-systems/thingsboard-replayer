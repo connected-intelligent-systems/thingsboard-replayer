{
 "cells": [
  {
   "cell_type": "code",
   "execution_count": 13,
   "metadata": {},
   "outputs": [],
   "source": [
    "import os\n",
    "import pandas as pd\n",
    "import requests\n",
    "import tarfile\n",
    "\n",
    "household_number = 14\n",
    "repo_url = \"https://mygit.th-deg.de/tcg/gelap/-/raw/master/hh-\" + str(household_number) + \".tar.xz?ref_type=heads\"  # replace with your repo URL\n",
    "data_folder = \"..//data//\"\n",
    "\n",
    "household_path = data_folder + \"hh-\" + str(household_number)\n",
    "labels = { \n",
    "            \"label_001.csv\": \"thermomix\",\n",
    "            \"label_002.csv\": \"toaster\",\n",
    "            \"label_003.csv\": \"coffee_machine\", \n",
    "            \"label_004.csv\": \"electric_kettle\",\n",
    "            \"label_005.csv\": \"microwave\",\n",
    "            \"label_006.csv\": \"radio\",\n",
    "            \"label_007.csv\": \"washing_machine\",\n",
    "            \"label_008.csv\": \"vacuum_cleaner\",\n",
    "            \"label_009.csv\": \"television\",\n",
    "            \"label_010.csv\": \"charger\"}\n",
    "\n",
    "start_time = '2020-03-17 09:30:00'\n",
    "end_time = '2020-04-21 06:30:00'\n"
   ]
  },
  {
   "cell_type": "code",
   "execution_count": null,
   "metadata": {},
   "outputs": [],
   "source": [
    "# Download the file and save in data folder\n",
    "r = requests.get(repo_url)\n",
    "with open(data_folder + \"hh-\" + str(household_number) + \".tar.xz\", \"wb\") as f:\n",
    "    f.write(r.content)\n",
    "# extract the file\n",
    "tar = tarfile.open(data_folder + \"hh-\" + str(household_number) + \".tar.xz\")\n",
    "tar.extractall(data_folder + \"hh-\" + str(household_number))\n",
    "tar.close()\n",
    "# os.remove(data_folder + \"hh-\" + str(household_number) + \".tar.xz\")"
   ]
  },
  {
   "cell_type": "code",
   "execution_count": 14,
   "metadata": {},
   "outputs": [],
   "source": [
    "temp_dir = os.path.join(data_folder, \"temp\")\n",
    "# convert to full path\n",
    "temp_dir = os.path.abspath(temp_dir)\n",
    "if not os.path.exists(temp_dir):\n",
    "    os.makedirs(temp_dir)\n",
    "\n",
    "smartmeter = pd.read_csv(os.path.join(household_path, \"smartmeter.csv\"))\n",
    "smartmeter = smartmeter.set_index(\"time\")\n",
    "smartmeter.index = pd.to_datetime(smartmeter.index, unit='ms')\n",
    "smartmeter.index = smartmeter.index.floor('s')\n",
    "smartmeter = smartmeter.loc[start_time:end_time]\n",
    "smartmeter[\"power\"] = smartmeter[\"power1\"] + smartmeter[\"power2\"] + smartmeter[\"power3\"]\n",
    "smartmeter = smartmeter.rename(columns={\"power\": \"smartmeter\"})\n",
    "smartmeter = smartmeter.drop(columns=[\"power1\", \"power2\", \"power3\"])\n",
    "smartmeter.to_csv(os.path.join(temp_dir, \"smartmeter.csv\"))\n",
    "smartmeter = smartmeter.drop(columns=[\"smartmeter\"])\n",
    "\n",
    "for label in labels:\n",
    "    device = pd.read_csv(os.path.join(household_path, label))\n",
    "    device[\"time\"] = pd.to_datetime(device[\"time_request\"], unit='ms')\n",
    "    device[\"time\"] = device[\"time\"].dt.floor('s')\n",
    "    device = device.drop(columns=[\"time_request\", \"time_reply\"])\n",
    "    device = device.set_index(\"time\")\n",
    "    device = device.resample(\"1s\").mean()\n",
    "    \n",
    "    chunk = pd.DataFrame(index=smartmeter.index)\n",
    "    chunk = chunk.join(device)\n",
    "    chunk = chunk.rename(columns={\"power\": labels[label]})\n",
    "    chunk.to_csv(os.path.join(temp_dir, labels[label] + \".csv\"))\n",
    "     "
   ]
  },
  {
   "cell_type": "code",
   "execution_count": 15,
   "metadata": {},
   "outputs": [],
   "source": [
    "\n",
    "# loop over folder and merge all csv files into one csv file\n",
    "files = os.listdir(temp_dir)\n",
    "df = pd.read_csv(os.path.join(temp_dir, files[0]))\n",
    "# rename the Unamed column to \"time\"\n",
    "df = df.rename(columns={\"Unnamed: 0\": \"time\"})\n",
    "# set the timestamp as the index\n",
    "df = df.set_index(\"time\")\n",
    "for file in files[1:]:\n",
    "    device = pd.read_csv(os.path.join(temp_dir, file))\n",
    "    filename = os.path.splitext(file)[0]\n",
    "    # get the column named after the filename and convert it to a list\n",
    "    power = device[filename].tolist()\n",
    "    # add the list to the dataframe\n",
    "    df[filename] = power\n",
    "     \n",
    "df.to_csv(os.path.join(data_folder, \"hh-\" + str(household_number) + \"merged.csv\"))\n",
    "\n",
    "    "
   ]
  }
 ],
 "metadata": {
  "kernelspec": {
   "display_name": "testenv",
   "language": "python",
   "name": "python3"
  },
  "language_info": {
   "codemirror_mode": {
    "name": "ipython",
    "version": 3
   },
   "file_extension": ".py",
   "mimetype": "text/x-python",
   "name": "python",
   "nbconvert_exporter": "python",
   "pygments_lexer": "ipython3",
   "version": "3.10.9"
  }
 },
 "nbformat": 4,
 "nbformat_minor": 2
}
